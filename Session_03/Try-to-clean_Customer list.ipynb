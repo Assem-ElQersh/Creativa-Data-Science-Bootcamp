{
  "cells": [
    {
      "cell_type": "code",
      "execution_count": null,
      "metadata": {
        "id": "viecHS-d8KqQ"
      },
      "outputs": [],
      "source": [
        "import pandas as pd\n",
        "import re\n",
        "import numpy as np"
      ]
    },
    {
      "cell_type": "code",
      "execution_count": null,
      "metadata": {
        "colab": {
          "base_uri": "https://localhost:8080/"
        },
        "id": "m2q3FdSU9RKe",
        "outputId": "51798b79-e86c-45eb-9393-2c58456f1ed0"
      },
      "outputs": [],
      "source": [
        "# If you are using Google Colab, you can mount your Google Drive to access the data\n",
        "# from google.colab import drive\n",
        "# drive.mount('/content/drive')\n",
        "# Customers = pd.read_excel('/content/Customer_list (1).xlsx')"
      ]
    },
    {
      "cell_type": "code",
      "execution_count": null,
      "metadata": {
        "id": "su3bsHsD9DSm"
      },
      "outputs": [],
      "source": [
        "Customers = pd.read_excel('Try-to-clean_Customer list.xlsx')"
      ]
    },
    {
      "cell_type": "code",
      "execution_count": null,
      "metadata": {
        "colab": {
          "base_uri": "https://localhost:8080/",
          "height": 345
        },
        "id": "cvf-SaNm9rzC",
        "outputId": "c20c19b7-d3f0-4c5d-d5ee-c3788fc41718"
      },
      "outputs": [],
      "source": [
        "Customers.head()"
      ]
    },
    {
      "cell_type": "code",
      "execution_count": null,
      "metadata": {
        "id": "lqkNWWPr-vqa"
      },
      "outputs": [],
      "source": [
        "#remove column Unnamed: 0.1 &\tUnnamed: 0\n",
        "Customers = Customers.drop(['Unnamed: 0.1', 'Unnamed: 0'], axis=1)"
      ]
    },
    {
      "cell_type": "code",
      "execution_count": null,
      "metadata": {
        "colab": {
          "base_uri": "https://localhost:8080/",
          "height": 774
        },
        "id": "KqNv122p_Uj1",
        "outputId": "e0830259-8473-4bbd-836e-a289eb7ca89a"
      },
      "outputs": [],
      "source": [
        "Customers"
      ]
    },
    {
      "cell_type": "code",
      "execution_count": null,
      "metadata": {
        "colab": {
          "base_uri": "https://localhost:8080/"
        },
        "id": "1w3Loziq_sEY",
        "outputId": "2ab25468-9720-46a4-8365-f7d566c37c09"
      },
      "outputs": [],
      "source": [
        "#Check Missing Data\n",
        "missing_data = Customers.isnull().sum()\n",
        "print(missing_data)"
      ]
    },
    {
      "cell_type": "code",
      "execution_count": null,
      "metadata": {
        "colab": {
          "base_uri": "https://localhost:8080/"
        },
        "id": "6bevg_FC_-Hb",
        "outputId": "481149ec-6d8b-4105-f4e2-032439be60ea"
      },
      "outputs": [],
      "source": [
        "print(Customers.dtypes)"
      ]
    },
    {
      "cell_type": "code",
      "execution_count": null,
      "metadata": {
        "colab": {
          "base_uri": "https://localhost:8080/",
          "height": 774
        },
        "id": "2MlecyMYEras",
        "outputId": "fab4117f-c361-4213-cb58-7e443cf0a87a"
      },
      "outputs": [],
      "source": [
        "# Missing Phone Number Data\n",
        "Customers['Phone_Number'] = Customers['Phone_Number'].replace('[^0-9]', '', regex=True)\n",
        "Customers['Phone_Number'] = Customers['Phone_Number'].fillna('')\n",
        "Customers['Phone_Number'] = Customers['Phone_Number'].apply(str).apply(lambda x: x[:3]+'-'+x[3:7]+'-'+x[7:])\n",
        "Customers"
      ]
    },
    {
      "cell_type": "code",
      "execution_count": null,
      "metadata": {
        "id": "tawEqHOVJhAJ"
      },
      "outputs": [],
      "source": [
        "Customers['CustomerID'] = Customers['CustomerID'].astype(int)"
      ]
    },
    {
      "cell_type": "code",
      "execution_count": null,
      "metadata": {
        "colab": {
          "base_uri": "https://localhost:8080/",
          "height": 742
        },
        "id": "ZtEoL2aFI3ps",
        "outputId": "766c8037-ddce-4fa7-d303-9d6bc884fdde"
      },
      "outputs": [],
      "source": [
        "#Customers = Customers.drop(index=21)\n",
        "Customers"
      ]
    },
    {
      "cell_type": "code",
      "execution_count": null,
      "metadata": {
        "colab": {
          "base_uri": "https://localhost:8080/"
        },
        "id": "FVBWC9V-Dcx2",
        "outputId": "e48175b6-d031-47d2-ea21-7fcd134d7a4d"
      },
      "outputs": [],
      "source": [
        "# Checking Partial Duplicated Data based on 'CustomerID'\n",
        "duplicates = Customers.duplicated(subset=['CustomerID'])\n",
        "\n",
        "# Display the rows that are duplicates\n",
        "duplicate_rows = Customers[duplicates]\n",
        "print(duplicate_rows)\n",
        "\n",
        "# Print the index of the duplicate rows\n",
        "print(\"Index of duplicate rows:\")\n",
        "print(duplicate_rows.index.tolist())"
      ]
    },
    {
      "cell_type": "code",
      "execution_count": null,
      "metadata": {
        "colab": {
          "base_uri": "https://localhost:8080/",
          "height": 711
        },
        "id": "Z-8MzybhJvA2",
        "outputId": "5bf33e96-8bae-4d21-fb51-de0538e9ec45"
      },
      "outputs": [],
      "source": [
        "# Drop the duplicate row based on 'CustomerID'\n",
        "Customers = Customers.drop_duplicates(subset=['CustomerID'])\n",
        "\n",
        "# Display the DataFrame after removing duplicates\n",
        "Customers"
      ]
    },
    {
      "cell_type": "code",
      "execution_count": null,
      "metadata": {
        "id": "r6DKHw9eA1hm"
      },
      "outputs": [],
      "source": [
        "#Customers['CustomerID'] = Customers['CustomerID'].interpolate()\n",
        "#Customers['CustomerID']"
      ]
    },
    {
      "cell_type": "code",
      "execution_count": null,
      "metadata": {
        "colab": {
          "base_uri": "https://localhost:8080/",
          "height": 919
        },
        "id": "3TZ4XgeNLWBV",
        "outputId": "3f990eed-326a-4872-9fe4-91f91062650d"
      },
      "outputs": [],
      "source": [
        "Customers['First_Name'] = Customers['First_Name'].replace('[^a-zA-Z]', '', regex=True)\n",
        "Customers['Last_Name'] = Customers['Last_Name'].replace('[^a-zA-Z]', '', regex=True)\n",
        "Customers"
      ]
    },
    {
      "cell_type": "code",
      "execution_count": null,
      "metadata": {
        "colab": {
          "base_uri": "https://localhost:8080/",
          "height": 919
        },
        "id": "DEw4W3Z9L_2P",
        "outputId": "b919e290-2260-4ec3-dee3-fdbb25d8ba8f"
      },
      "outputs": [],
      "source": [
        "# fill NaN with empty string\n",
        "Customers['First_Name'] = Customers['First_Name'].fillna('')\n",
        "Customers['Last_Name'] = Customers['Last_Name'].fillna('')\n",
        "\n",
        "Customers"
      ]
    },
    {
      "cell_type": "code",
      "execution_count": null,
      "metadata": {
        "colab": {
          "base_uri": "https://localhost:8080/"
        },
        "id": "YTunIcPENGmi",
        "outputId": "a5df95b8-bda5-4a77-cb25-71bd95e24a53"
      },
      "outputs": [],
      "source": [
        "print(Customers['Paying Customer'].unique())\n",
        "print(Customers['Do_Not_Contact'].unique())"
      ]
    },
    {
      "cell_type": "code",
      "execution_count": null,
      "metadata": {
        "colab": {
          "base_uri": "https://localhost:8080/"
        },
        "id": "I7I9Sj49N_ki",
        "outputId": "f9475c9e-837e-4227-c461-8c90b5c5ef7a"
      },
      "outputs": [],
      "source": [
        "Customers['Paying Customer'] = Customers['Paying Customer'].replace({\n",
        "    'N': 'No',\n",
        "    'Y': 'Yes',\n",
        "    'N/a': 'No',\n",
        "    np.nan: 'No'\n",
        "})\n",
        "\n",
        "# Replace values in 'Do_Not_Contact' column\n",
        "Customers['Do_Not_Contact'] = Customers['Do_Not_Contact'].replace({\n",
        "    'N': 'No',\n",
        "    'Y': 'Yes',\n",
        "    'N/a': 'No',\n",
        "    np.nan: 'No'\n",
        "})\n",
        "\n",
        "print(\"\\nDataFrame after transformation:\")\n",
        "print(Customers)"
      ]
    },
    {
      "cell_type": "code",
      "execution_count": null,
      "metadata": {
        "colab": {
          "base_uri": "https://localhost:8080/"
        },
        "id": "Ud6C69y_QLSl",
        "outputId": "ff1615e9-da87-4e6b-8124-24707815b3d5"
      },
      "outputs": [],
      "source": [
        "# Replace NaN values with the mode value of the 'Age' column\n",
        "mode_value = Customers['age'].mode()[0]  # Calculate the mode (most frequent value)\n",
        "Customers['age'].fillna(mode_value, inplace=True)  # Replace NaN with the mode"
      ]
    },
    {
      "cell_type": "code",
      "execution_count": null,
      "metadata": {
        "colab": {
          "base_uri": "https://localhost:8080/",
          "height": 711
        },
        "id": "CBodOc3_Qdvj",
        "outputId": "8ba248ee-6572-4739-9c96-543aec4fa0c5"
      },
      "outputs": [],
      "source": [
        "Customers"
      ]
    }
  ],
  "metadata": {
    "colab": {
      "provenance": []
    },
    "kernelspec": {
      "display_name": "Python 3",
      "name": "python3"
    },
    "language_info": {
      "codemirror_mode": {
        "name": "ipython",
        "version": 3
      },
      "file_extension": ".py",
      "mimetype": "text/x-python",
      "name": "python",
      "nbconvert_exporter": "python",
      "pygments_lexer": "ipython3",
      "version": "3.11.7"
    }
  },
  "nbformat": 4,
  "nbformat_minor": 0
}
