{
 "cells": [
  {
   "cell_type": "markdown",
   "id": "1c4920ff",
   "metadata": {},
   "source": [
    "# Session 4: Creating a Simple Machine Learning Model\n",
    "In this notebook, we'll create a simple linear model from scratch, train it using a custom loss function, and optimize it using gradient descent.\n",
    "\n",
    "If you are unfamiliar with classes or Object-Oriented Programming (OOP) in Python, consider learning that first. We'll be using a simple class structure to define our model."
   ]
  },
  {
   "cell_type": "code",
   "execution_count": 1,
   "id": "387282d6",
   "metadata": {},
   "outputs": [],
   "source": [
    "# Importing necessary libraries\n",
    "import matplotlib.pyplot as plt"
   ]
  },
  {
   "cell_type": "markdown",
   "id": "a59a8b6b",
   "metadata": {},
   "source": [
    "### Defining Input and Target Output\n",
    "We'll use a basic linear relationship where the output is simply twice the input:"
   ]
  },
  {
   "cell_type": "code",
   "execution_count": 2,
   "id": "4cac0f58",
   "metadata": {},
   "outputs": [],
   "source": [
    "inp = [1, 2, 3, 4]\n",
    "out = [2, 4, 6, 8]  # Target output, which is 2x the input"
   ]
  },
  {
   "cell_type": "markdown",
   "id": "1e55ae12",
   "metadata": {},
   "source": [
    "### Building the Simple Linear Model\n",
    "Here we define a class for our model. The model has a parameter `x` that it uses to predict the output based on the input.\n",
    "Initially, `x` is set to an arbitrary value."
   ]
  },
  {
   "cell_type": "code",
   "execution_count": 3,
   "id": "1d216d62",
   "metadata": {},
   "outputs": [],
   "source": [
    "class SimpleLinearModel:\n",
    "    def __init__(self):\n",
    "        \"\"\"\n",
    "        Initialize the model with an initial parameter.\n",
    "        This parameter (x) represents the model's weight, which we will optimize.\n",
    "        \"\"\"\n",
    "        self.x = -100  # Starting value, this can be any arbitrary number.\n",
    "\n",
    "    def __call__(self, inp):\n",
    "        \"\"\"\n",
    "        Make predictions based on the input and the current model parameter.\n",
    "\n",
    "        Args:\n",
    "        inp (list): A list of input values.\n",
    "\n",
    "        Returns:\n",
    "        list: Predicted values.\n",
    "        \"\"\"\n",
    "        return [i * self.x for i in inp]"
   ]
  },
  {
   "cell_type": "markdown",
   "id": "9bd63e3f",
   "metadata": {},
   "source": [
    "### Defining the Loss Function\n",
    "We'll use Mean Squared Error (MSE) as our loss function. It measures how close the model's predictions are to the actual target values."
   ]
  },
  {
   "cell_type": "code",
   "execution_count": 4,
   "id": "c816cc03",
   "metadata": {},
   "outputs": [],
   "source": [
    "def compute_loss(pred, out):\n",
    "    \"\"\"\n",
    "    Compute the mean squared error between the predicted values and the actual target values.\n",
    "\n",
    "    Args:\n",
    "    pred (list): The model's predictions.\n",
    "    out (list): The true target values.\n",
    "\n",
    "    Returns:\n",
    "    float: The computed loss value.\n",
    "    \"\"\"\n",
    "    return sum((p - o) ** 2 for p, o in zip(pred, out)) / len(pred)"
   ]
  },
  {
   "cell_type": "markdown",
   "id": "ca1b85fc",
   "metadata": {},
   "source": [
    "### Calculating the Gradient\n",
    "We calculate the gradient (derivative) of the loss function with respect to the model parameter `x`. This tells us how to update `x` to reduce the loss."
   ]
  },
  {
   "cell_type": "code",
   "execution_count": 5,
   "id": "30c2a95b",
   "metadata": {},
   "outputs": [],
   "source": [
    "def compute_gradient(pred, out, inp):\n",
    "    \"\"\"\n",
    "    Compute the gradient of the loss function, used for updating the model parameter.\n",
    "\n",
    "    Args:\n",
    "    pred (list): The model's predictions.\n",
    "    out (list): The true target values.\n",
    "    inp (list): The input values.\n",
    "\n",
    "    Returns:\n",
    "    float: The gradient value for the model parameter (x).\n",
    "    \"\"\"\n",
    "    return -2 * sum((o - p) * i for p, o, i in zip(pred, out, inp)) / len(pred)"
   ]
  },
  {
   "cell_type": "markdown",
   "id": "22580f16",
   "metadata": {},
   "source": [
    "### Training the Model using Gradient Descent\n",
    "We now create an instance of our model and train it using gradient descent. We'll run multiple iterations and adjust the model's parameter `x` to minimize the loss."
   ]
  },
  {
   "cell_type": "code",
   "execution_count": 6,
   "id": "4b15f1ae",
   "metadata": {},
   "outputs": [
    {
     "name": "stdout",
     "output_type": "stream",
     "text": [
      "Iteration 1: Loss = 78030.0000, x = 53.0000\n",
      "Iteration 2: Loss = 19507.5000, x = -23.5000\n",
      "Iteration 3: Loss = 4876.8750, x = 14.7500\n",
      "Iteration 4: Loss = 1219.2188, x = -4.3750\n",
      "Iteration 5: Loss = 304.8047, x = 5.1875\n",
      "Iteration 6: Loss = 76.2012, x = 0.4062\n",
      "Iteration 7: Loss = 19.0503, x = 2.7969\n",
      "Iteration 8: Loss = 4.7626, x = 1.6016\n",
      "Iteration 9: Loss = 1.1906, x = 2.1992\n",
      "Iteration 10: Loss = 0.2977, x = 1.9004\n"
     ]
    }
   ],
   "source": [
    "# Creating an instance of the model\n",
    "model = SimpleLinearModel()\n",
    "\n",
    "# Training loop\n",
    "iterations = 10\n",
    "learning_rate = 0.1  # Controls how much we adjust x in each step\n",
    "\n",
    "losses = []  # To track loss values for visualization\n",
    "\n",
    "for i in range(iterations):\n",
    "    # Get model predictions\n",
    "    pred = model(inp)\n",
    "\n",
    "    # Compute the loss\n",
    "    loss = compute_loss(pred, out)\n",
    "    losses.append(loss)\n",
    "\n",
    "    # Compute the gradient\n",
    "    grad = compute_gradient(pred, out, inp)\n",
    "\n",
    "    # Update the model parameter (x) using the gradient\n",
    "    model.x -= learning_rate * grad\n",
    "\n",
    "    # Print the current loss and model parameter\n",
    "    print(f\"Iteration {i + 1}: Loss = {loss:.4f}, x = {model.x:.4f}\")"
   ]
  },
  {
   "cell_type": "markdown",
   "id": "81235010",
   "metadata": {},
   "source": [
    "### Visualizing the Loss over Iterations\n",
    "We can plot the loss values to see how the model improves over time."
   ]
  },
  {
   "cell_type": "code",
   "execution_count": 7,
   "id": "253c5b1f",
   "metadata": {},
   "outputs": [
    {
     "data": {
      "image/png": "[encoded data removed]",
      "text/plain": [
       "<Figure size 640x480 with 1 Axes>"
      ]
     },
     "metadata": {},
     "output_type": "display_data"
    },
    {
     "name": "stdout",
     "output_type": "stream",
     "text": [
      "Final value of x: 1.9004\n"
     ]
    }
   ],
   "source": [
    "plt.plot(range(1, iterations + 1), losses, marker='o')\n",
    "plt.title('Loss Over Iterations')\n",
    "plt.xlabel('Iteration')\n",
    "plt.ylabel('Loss')\n",
    "plt.grid(True)\n",
    "plt.show()\n",
    "\n",
    "# Final model parameter (x)\n",
    "print(f\"Final value of x: {model.x:.4f}\")"
   ]
  }
 ],
 "metadata": {
  "kernelspec": {
   "display_name": "base",
   "language": "python",
   "name": "python3"
  },
  "language_info": {
   "codemirror_mode": {
    "name": "ipython",
    "version": 3
   },
   "file_extension": ".py",
   "mimetype": "text/x-python",
   "name": "python",
   "nbconvert_exporter": "python",
   "pygments_lexer": "ipython3",
   "version": "3.11.7"
  }
 },
 "nbformat": 4,
 "nbformat_minor": 5
}
